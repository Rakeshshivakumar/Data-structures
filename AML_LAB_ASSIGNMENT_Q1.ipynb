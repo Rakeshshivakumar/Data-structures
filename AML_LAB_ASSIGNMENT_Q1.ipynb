{
  "nbformat": 4,
  "nbformat_minor": 0,
  "metadata": {
    "colab": {
      "name": "AML_LAB_ASSIGNMENT_Q1.ipynb",
      "provenance": [],
      "collapsed_sections": [],
      "authorship_tag": "ABX9TyNX4rNEUHR3DYP2wn5tibHa",
      "include_colab_link": true
    },
    "kernelspec": {
      "name": "python3",
      "display_name": "Python 3"
    }
  },
  "cells": [
    {
      "cell_type": "markdown",
      "metadata": {
        "id": "view-in-github",
        "colab_type": "text"
      },
      "source": [
        "<a href=\"https://colab.research.google.com/github/Rakeshshivakumar/Data-structures/blob/main/AML_LAB_ASSIGNMENT_Q1.ipynb\" target=\"_parent\"><img src=\"https://colab.research.google.com/assets/colab-badge.svg\" alt=\"Open In Colab\"/></a>"
      ]
    },
    {
      "cell_type": "markdown",
      "metadata": {
        "id": "gTmBWV4yTP8l"
      },
      "source": [
        "**Download iris dataset form UCI machine learning repository and use the dataset to develop the following classifiers and find the accuracy of the model. Compare and comment on the results:**"
      ]
    },
    {
      "cell_type": "markdown",
      "metadata": {
        "id": "7kxBBpOOTWwF"
      },
      "source": [
        "# Part-1:"
      ]
    },
    {
      "cell_type": "markdown",
      "metadata": {
        "id": "LPM_DZViThES"
      },
      "source": [
        ""
      ]
    },
    {
      "cell_type": "code",
      "metadata": {
        "id": "pz0vB8u7Rvkg"
      },
      "source": [
        "import pandas as pd\r\n",
        "import numpy as np\r\n",
        "import os\r\n",
        "import matplotlib.pyplot as plt\r\n",
        "import seaborn as sns\r\n",
        "from sklearn.metrics import accuracy_score\r\n",
        "from sklearn.metrics import confusion_matrix\r\n",
        "import warnings\r\n",
        "warnings.filterwarnings('ignore')\r\n",
        "\r\n",
        "\r\n",
        "\r\n"
      ],
      "execution_count": null,
      "outputs": []
    },
    {
      "cell_type": "code",
      "metadata": {
        "id": "ktBmDodkUJrN"
      },
      "source": [
        "data=pd.read_csv(\"Iris.csv\")"
      ],
      "execution_count": null,
      "outputs": []
    },
    {
      "cell_type": "code",
      "metadata": {
        "colab": {
          "base_uri": "https://localhost:8080/",
          "height": 406
        },
        "id": "BF1eZYR6U6qM",
        "outputId": "436e04cc-4410-47fe-cd4d-2e3740a7b8e0"
      },
      "source": [
        "data"
      ],
      "execution_count": null,
      "outputs": [
        {
          "output_type": "execute_result",
          "data": {
            "text/html": [
              "<div>\n",
              "<style scoped>\n",
              "    .dataframe tbody tr th:only-of-type {\n",
              "        vertical-align: middle;\n",
              "    }\n",
              "\n",
              "    .dataframe tbody tr th {\n",
              "        vertical-align: top;\n",
              "    }\n",
              "\n",
              "    .dataframe thead th {\n",
              "        text-align: right;\n",
              "    }\n",
              "</style>\n",
              "<table border=\"1\" class=\"dataframe\">\n",
              "  <thead>\n",
              "    <tr style=\"text-align: right;\">\n",
              "      <th></th>\n",
              "      <th>Id</th>\n",
              "      <th>SepalLengthCm</th>\n",
              "      <th>SepalWidthCm</th>\n",
              "      <th>PetalLengthCm</th>\n",
              "      <th>PetalWidthCm</th>\n",
              "      <th>Species</th>\n",
              "    </tr>\n",
              "  </thead>\n",
              "  <tbody>\n",
              "    <tr>\n",
              "      <th>0</th>\n",
              "      <td>1</td>\n",
              "      <td>5.1</td>\n",
              "      <td>3.5</td>\n",
              "      <td>1.4</td>\n",
              "      <td>0.2</td>\n",
              "      <td>Iris-setosa</td>\n",
              "    </tr>\n",
              "    <tr>\n",
              "      <th>1</th>\n",
              "      <td>2</td>\n",
              "      <td>4.9</td>\n",
              "      <td>3.0</td>\n",
              "      <td>1.4</td>\n",
              "      <td>0.2</td>\n",
              "      <td>Iris-setosa</td>\n",
              "    </tr>\n",
              "    <tr>\n",
              "      <th>2</th>\n",
              "      <td>3</td>\n",
              "      <td>4.7</td>\n",
              "      <td>3.2</td>\n",
              "      <td>1.3</td>\n",
              "      <td>0.2</td>\n",
              "      <td>Iris-setosa</td>\n",
              "    </tr>\n",
              "    <tr>\n",
              "      <th>3</th>\n",
              "      <td>4</td>\n",
              "      <td>4.6</td>\n",
              "      <td>3.1</td>\n",
              "      <td>1.5</td>\n",
              "      <td>0.2</td>\n",
              "      <td>Iris-setosa</td>\n",
              "    </tr>\n",
              "    <tr>\n",
              "      <th>4</th>\n",
              "      <td>5</td>\n",
              "      <td>5.0</td>\n",
              "      <td>3.6</td>\n",
              "      <td>1.4</td>\n",
              "      <td>0.2</td>\n",
              "      <td>Iris-setosa</td>\n",
              "    </tr>\n",
              "    <tr>\n",
              "      <th>...</th>\n",
              "      <td>...</td>\n",
              "      <td>...</td>\n",
              "      <td>...</td>\n",
              "      <td>...</td>\n",
              "      <td>...</td>\n",
              "      <td>...</td>\n",
              "    </tr>\n",
              "    <tr>\n",
              "      <th>145</th>\n",
              "      <td>146</td>\n",
              "      <td>6.7</td>\n",
              "      <td>3.0</td>\n",
              "      <td>5.2</td>\n",
              "      <td>2.3</td>\n",
              "      <td>Iris-virginica</td>\n",
              "    </tr>\n",
              "    <tr>\n",
              "      <th>146</th>\n",
              "      <td>147</td>\n",
              "      <td>6.3</td>\n",
              "      <td>2.5</td>\n",
              "      <td>5.0</td>\n",
              "      <td>1.9</td>\n",
              "      <td>Iris-virginica</td>\n",
              "    </tr>\n",
              "    <tr>\n",
              "      <th>147</th>\n",
              "      <td>148</td>\n",
              "      <td>6.5</td>\n",
              "      <td>3.0</td>\n",
              "      <td>5.2</td>\n",
              "      <td>2.0</td>\n",
              "      <td>Iris-virginica</td>\n",
              "    </tr>\n",
              "    <tr>\n",
              "      <th>148</th>\n",
              "      <td>149</td>\n",
              "      <td>6.2</td>\n",
              "      <td>3.4</td>\n",
              "      <td>5.4</td>\n",
              "      <td>2.3</td>\n",
              "      <td>Iris-virginica</td>\n",
              "    </tr>\n",
              "    <tr>\n",
              "      <th>149</th>\n",
              "      <td>150</td>\n",
              "      <td>5.9</td>\n",
              "      <td>3.0</td>\n",
              "      <td>5.1</td>\n",
              "      <td>1.8</td>\n",
              "      <td>Iris-virginica</td>\n",
              "    </tr>\n",
              "  </tbody>\n",
              "</table>\n",
              "<p>150 rows × 6 columns</p>\n",
              "</div>"
            ],
            "text/plain": [
              "      Id  SepalLengthCm  ...  PetalWidthCm         Species\n",
              "0      1            5.1  ...           0.2     Iris-setosa\n",
              "1      2            4.9  ...           0.2     Iris-setosa\n",
              "2      3            4.7  ...           0.2     Iris-setosa\n",
              "3      4            4.6  ...           0.2     Iris-setosa\n",
              "4      5            5.0  ...           0.2     Iris-setosa\n",
              "..   ...            ...  ...           ...             ...\n",
              "145  146            6.7  ...           2.3  Iris-virginica\n",
              "146  147            6.3  ...           1.9  Iris-virginica\n",
              "147  148            6.5  ...           2.0  Iris-virginica\n",
              "148  149            6.2  ...           2.3  Iris-virginica\n",
              "149  150            5.9  ...           1.8  Iris-virginica\n",
              "\n",
              "[150 rows x 6 columns]"
            ]
          },
          "metadata": {
            "tags": []
          },
          "execution_count": 39
        }
      ]
    },
    {
      "cell_type": "markdown",
      "metadata": {
        "id": "fpDDCdwTQx9x"
      },
      "source": [
        ""
      ]
    },
    {
      "cell_type": "code",
      "metadata": {
        "colab": {
          "base_uri": "https://localhost:8080/",
          "height": 197
        },
        "id": "gDNk0vm2VNqo",
        "outputId": "d8b8cc8f-0bf4-4c96-f4f6-b3e1e8544e55"
      },
      "source": [
        "df = pd.DataFrame(data)\r\n",
        "df.head()"
      ],
      "execution_count": null,
      "outputs": [
        {
          "output_type": "execute_result",
          "data": {
            "text/html": [
              "<div>\n",
              "<style scoped>\n",
              "    .dataframe tbody tr th:only-of-type {\n",
              "        vertical-align: middle;\n",
              "    }\n",
              "\n",
              "    .dataframe tbody tr th {\n",
              "        vertical-align: top;\n",
              "    }\n",
              "\n",
              "    .dataframe thead th {\n",
              "        text-align: right;\n",
              "    }\n",
              "</style>\n",
              "<table border=\"1\" class=\"dataframe\">\n",
              "  <thead>\n",
              "    <tr style=\"text-align: right;\">\n",
              "      <th></th>\n",
              "      <th>Id</th>\n",
              "      <th>SepalLengthCm</th>\n",
              "      <th>SepalWidthCm</th>\n",
              "      <th>PetalLengthCm</th>\n",
              "      <th>PetalWidthCm</th>\n",
              "      <th>Species</th>\n",
              "    </tr>\n",
              "  </thead>\n",
              "  <tbody>\n",
              "    <tr>\n",
              "      <th>0</th>\n",
              "      <td>1</td>\n",
              "      <td>5.1</td>\n",
              "      <td>3.5</td>\n",
              "      <td>1.4</td>\n",
              "      <td>0.2</td>\n",
              "      <td>Iris-setosa</td>\n",
              "    </tr>\n",
              "    <tr>\n",
              "      <th>1</th>\n",
              "      <td>2</td>\n",
              "      <td>4.9</td>\n",
              "      <td>3.0</td>\n",
              "      <td>1.4</td>\n",
              "      <td>0.2</td>\n",
              "      <td>Iris-setosa</td>\n",
              "    </tr>\n",
              "    <tr>\n",
              "      <th>2</th>\n",
              "      <td>3</td>\n",
              "      <td>4.7</td>\n",
              "      <td>3.2</td>\n",
              "      <td>1.3</td>\n",
              "      <td>0.2</td>\n",
              "      <td>Iris-setosa</td>\n",
              "    </tr>\n",
              "    <tr>\n",
              "      <th>3</th>\n",
              "      <td>4</td>\n",
              "      <td>4.6</td>\n",
              "      <td>3.1</td>\n",
              "      <td>1.5</td>\n",
              "      <td>0.2</td>\n",
              "      <td>Iris-setosa</td>\n",
              "    </tr>\n",
              "    <tr>\n",
              "      <th>4</th>\n",
              "      <td>5</td>\n",
              "      <td>5.0</td>\n",
              "      <td>3.6</td>\n",
              "      <td>1.4</td>\n",
              "      <td>0.2</td>\n",
              "      <td>Iris-setosa</td>\n",
              "    </tr>\n",
              "  </tbody>\n",
              "</table>\n",
              "</div>"
            ],
            "text/plain": [
              "   Id  SepalLengthCm  SepalWidthCm  PetalLengthCm  PetalWidthCm      Species\n",
              "0   1            5.1           3.5            1.4           0.2  Iris-setosa\n",
              "1   2            4.9           3.0            1.4           0.2  Iris-setosa\n",
              "2   3            4.7           3.2            1.3           0.2  Iris-setosa\n",
              "3   4            4.6           3.1            1.5           0.2  Iris-setosa\n",
              "4   5            5.0           3.6            1.4           0.2  Iris-setosa"
            ]
          },
          "metadata": {
            "tags": []
          },
          "execution_count": 40
        }
      ]
    },
    {
      "cell_type": "code",
      "metadata": {
        "colab": {
          "base_uri": "https://localhost:8080/",
          "height": 287
        },
        "id": "fikooYwycwsX",
        "outputId": "d0db5a4b-ce66-42f9-beab-05d99c9895dc"
      },
      "source": [
        "data.describe()"
      ],
      "execution_count": null,
      "outputs": [
        {
          "output_type": "execute_result",
          "data": {
            "text/html": [
              "<div>\n",
              "<style scoped>\n",
              "    .dataframe tbody tr th:only-of-type {\n",
              "        vertical-align: middle;\n",
              "    }\n",
              "\n",
              "    .dataframe tbody tr th {\n",
              "        vertical-align: top;\n",
              "    }\n",
              "\n",
              "    .dataframe thead th {\n",
              "        text-align: right;\n",
              "    }\n",
              "</style>\n",
              "<table border=\"1\" class=\"dataframe\">\n",
              "  <thead>\n",
              "    <tr style=\"text-align: right;\">\n",
              "      <th></th>\n",
              "      <th>Id</th>\n",
              "      <th>SepalLengthCm</th>\n",
              "      <th>SepalWidthCm</th>\n",
              "      <th>PetalLengthCm</th>\n",
              "      <th>PetalWidthCm</th>\n",
              "    </tr>\n",
              "  </thead>\n",
              "  <tbody>\n",
              "    <tr>\n",
              "      <th>count</th>\n",
              "      <td>150.000000</td>\n",
              "      <td>150.000000</td>\n",
              "      <td>150.000000</td>\n",
              "      <td>150.000000</td>\n",
              "      <td>150.000000</td>\n",
              "    </tr>\n",
              "    <tr>\n",
              "      <th>mean</th>\n",
              "      <td>75.500000</td>\n",
              "      <td>5.843333</td>\n",
              "      <td>3.054000</td>\n",
              "      <td>3.758667</td>\n",
              "      <td>1.198667</td>\n",
              "    </tr>\n",
              "    <tr>\n",
              "      <th>std</th>\n",
              "      <td>43.445368</td>\n",
              "      <td>0.828066</td>\n",
              "      <td>0.433594</td>\n",
              "      <td>1.764420</td>\n",
              "      <td>0.763161</td>\n",
              "    </tr>\n",
              "    <tr>\n",
              "      <th>min</th>\n",
              "      <td>1.000000</td>\n",
              "      <td>4.300000</td>\n",
              "      <td>2.000000</td>\n",
              "      <td>1.000000</td>\n",
              "      <td>0.100000</td>\n",
              "    </tr>\n",
              "    <tr>\n",
              "      <th>25%</th>\n",
              "      <td>38.250000</td>\n",
              "      <td>5.100000</td>\n",
              "      <td>2.800000</td>\n",
              "      <td>1.600000</td>\n",
              "      <td>0.300000</td>\n",
              "    </tr>\n",
              "    <tr>\n",
              "      <th>50%</th>\n",
              "      <td>75.500000</td>\n",
              "      <td>5.800000</td>\n",
              "      <td>3.000000</td>\n",
              "      <td>4.350000</td>\n",
              "      <td>1.300000</td>\n",
              "    </tr>\n",
              "    <tr>\n",
              "      <th>75%</th>\n",
              "      <td>112.750000</td>\n",
              "      <td>6.400000</td>\n",
              "      <td>3.300000</td>\n",
              "      <td>5.100000</td>\n",
              "      <td>1.800000</td>\n",
              "    </tr>\n",
              "    <tr>\n",
              "      <th>max</th>\n",
              "      <td>150.000000</td>\n",
              "      <td>7.900000</td>\n",
              "      <td>4.400000</td>\n",
              "      <td>6.900000</td>\n",
              "      <td>2.500000</td>\n",
              "    </tr>\n",
              "  </tbody>\n",
              "</table>\n",
              "</div>"
            ],
            "text/plain": [
              "               Id  SepalLengthCm  SepalWidthCm  PetalLengthCm  PetalWidthCm\n",
              "count  150.000000     150.000000    150.000000     150.000000    150.000000\n",
              "mean    75.500000       5.843333      3.054000       3.758667      1.198667\n",
              "std     43.445368       0.828066      0.433594       1.764420      0.763161\n",
              "min      1.000000       4.300000      2.000000       1.000000      0.100000\n",
              "25%     38.250000       5.100000      2.800000       1.600000      0.300000\n",
              "50%     75.500000       5.800000      3.000000       4.350000      1.300000\n",
              "75%    112.750000       6.400000      3.300000       5.100000      1.800000\n",
              "max    150.000000       7.900000      4.400000       6.900000      2.500000"
            ]
          },
          "metadata": {
            "tags": []
          },
          "execution_count": 52
        }
      ]
    },
    {
      "cell_type": "code",
      "metadata": {
        "id": "vXDz1P4Dc4QP"
      },
      "source": [
        "X =data.iloc[:,1:5].values  # X is a matrix\r\n",
        "y=data.iloc[:,-1].values"
      ],
      "execution_count": null,
      "outputs": []
    },
    {
      "cell_type": "code",
      "metadata": {
        "id": "YEH4CZhqVezC"
      },
      "source": [
        "from sklearn.model_selection import train_test_split\r\n",
        "from sklearn.preprocessing import StandardScaler\r\n",
        "from sklearn.metrics import confusion_matrix\r\n",
        "from sklearn.metrics import accuracy_score"
      ],
      "execution_count": null,
      "outputs": []
    },
    {
      "cell_type": "code",
      "metadata": {
        "id": "aQzBzfh7VPNT"
      },
      "source": [
        "from sklearn.preprocessing import OneHotEncoder, LabelEncoder\r\n",
        "labelencoder_y = LabelEncoder()\r\n",
        "y = labelencoder_y.fit_transform(y)"
      ],
      "execution_count": null,
      "outputs": []
    },
    {
      "cell_type": "code",
      "metadata": {
        "id": "V6O3SmyObNd0"
      },
      "source": [
        "from sklearn.model_selection import train_test_split\r\n",
        "X_train, X_test, y_train, y_test = train_test_split(X, y, test_size = 0.25, random_state = 0)"
      ],
      "execution_count": null,
      "outputs": []
    },
    {
      "cell_type": "code",
      "metadata": {
        "id": "nhMJylN4cLvd"
      },
      "source": [
        "# Feature Scaling\r\n",
        "from sklearn.preprocessing import StandardScaler\r\n",
        "sc = StandardScaler()\r\n",
        "X_train = sc.fit_transform(X_train)\r\n",
        "X_test = sc.transform(X_test)"
      ],
      "execution_count": null,
      "outputs": []
    },
    {
      "cell_type": "markdown",
      "metadata": {
        "id": "CzM_-2JddfD7"
      },
      "source": [
        "## 1.Decision Tree Classifier"
      ]
    },
    {
      "cell_type": "code",
      "metadata": {
        "id": "6nvii0h5bWKN"
      },
      "source": [
        "from sklearn.tree import DecisionTreeClassifier\r\n",
        "classifier = DecisionTreeClassifier(criterion = 'entropy', random_state = 0)\r\n",
        "classifier.fit(X_train, y_train)\r\n",
        "\r\n",
        "classifier_gini = DecisionTreeClassifier(criterion = 'gini', random_state = 0)\r\n",
        "classifier_gini.fit(X_train, y_train)\r\n",
        "\r\n",
        "y_pred = classifier.predict(X_test)\r\n",
        "y_pred_gini = classifier_gini.predict(X_test)\r\n",
        "\r\n",
        "\r\n",
        "from sklearn.metrics import accuracy_score, confusion_matrix, plot_confusion_matrix"
      ],
      "execution_count": null,
      "outputs": []
    },
    {
      "cell_type": "code",
      "metadata": {
        "colab": {
          "base_uri": "https://localhost:8080/"
        },
        "id": "KiqZfD53cVib",
        "outputId": "430c47e0-5d0a-4119-8467-39d35772d151"
      },
      "source": [
        "cm = confusion_matrix(y_test, y_pred)\r\n",
        "print(cm ,'\\n')\r\n",
        "prediction = accuracy_score(y_test, y_pred)\r\n",
        "print(prediction * 100)"
      ],
      "execution_count": null,
      "outputs": [
        {
          "output_type": "stream",
          "text": [
            "[[13  0  0]\n",
            " [ 0 15  1]\n",
            " [ 0  0  9]] \n",
            "\n",
            "97.36842105263158\n"
          ],
          "name": "stdout"
        }
      ]
    },
    {
      "cell_type": "code",
      "metadata": {
        "colab": {
          "base_uri": "https://localhost:8080/",
          "height": 845
        },
        "id": "2ZpBNxDOU86w",
        "outputId": "e782a373-6790-4a16-c746-661e1d047bda"
      },
      "source": [
        "from sklearn import tree\r\n",
        "plt.figure(figsize = (15, 15))\r\n",
        "tree.plot_tree(classifier);"
      ],
      "execution_count": null,
      "outputs": [
        {
          "output_type": "display_data",
          "data": {
            "image/png": "[encoded data removed]",
            "text/plain": [
              "<Figure size 1080x1080 with 1 Axes>"
            ]
          },
          "metadata": {
            "tags": [],
            "needs_background": "light"
          }
        }
      ]
    },
    {
      "cell_type": "code",
      "metadata": {
        "colab": {
          "base_uri": "https://localhost:8080/"
        },
        "id": "-Lv1R-KodvG7",
        "outputId": "774c5d72-6e4f-4eba-e9de-17960dd8033d"
      },
      "source": [
        "accuracyentropy=accuracy_score(y_test, y_pred)\r\n",
        "accuracyentropy"
      ],
      "execution_count": null,
      "outputs": [
        {
          "output_type": "execute_result",
          "data": {
            "text/plain": [
              "0.9736842105263158"
            ]
          },
          "metadata": {
            "tags": []
          },
          "execution_count": 66
        }
      ]
    },
    {
      "cell_type": "markdown",
      "metadata": {
        "id": "j2pF1-DtViCn"
      },
      "source": [
        "# 2.Naïve Bayes Classifier"
      ]
    },
    {
      "cell_type": "code",
      "metadata": {
        "colab": {
          "base_uri": "https://localhost:8080/"
        },
        "id": "aQLUmArLVhXP",
        "outputId": "f82aac0d-9ec2-48bd-cee1-a08353e9b137"
      },
      "source": [
        "from sklearn.naive_bayes import GaussianNB\r\n",
        "model = GaussianNB()\r\n",
        "model.fit(X_train, y_train)\r\n",
        "# print metric to get performance\r\n",
        "y_pred = model.predict(X_test)\r\n",
        "cm = confusion_matrix(y_test, y_pred)\r\n",
        "accuracy_nb = accuracy_score(y_test,y_pred)*100\r\n",
        "acc_nb = model.score(X_test, y_test) * 100\r\n",
        "print(cm)\r\n",
        "print(accuracy_nb)\r\n",
        "print(acc_nb)\r\n"
      ],
      "execution_count": null,
      "outputs": [
        {
          "output_type": "stream",
          "text": [
            "[[13  0  0]\n",
            " [ 0 16  0]\n",
            " [ 0  0  9]]\n",
            "100.0\n",
            "100.0\n"
          ],
          "name": "stdout"
        }
      ]
    },
    {
      "cell_type": "markdown",
      "metadata": {
        "id": "Rdga8iEofIhM"
      },
      "source": [
        "# 3.Logistic Regression classifier"
      ]
    },
    {
      "cell_type": "code",
      "metadata": {
        "colab": {
          "base_uri": "https://localhost:8080/"
        },
        "id": "T9SSbUJUfMMZ",
        "outputId": "1eeb21fd-a5a9-49af-daef-2ebc75ce6891"
      },
      "source": [
        "from sklearn.linear_model import LogisticRegression\r\n",
        "model = LogisticRegression()\r\n",
        "# model training\r\n",
        "model.fit(X_train, y_train)\r\n",
        "# print metric to get performance\r\n",
        "y_pred = model.predict(X_test)\r\n",
        "cm = confusion_matrix(y_test, y_pred)\r\n",
        "accuracy_lr = accuracy_score(y_test,y_pred)*100\r\n",
        "acc_lr = model.score(X_test, y_test) * 100\r\n",
        "print(cm)\r\n",
        "print(accuracy_lr)\r\n",
        "print(acc_lr)"
      ],
      "execution_count": null,
      "outputs": [
        {
          "output_type": "stream",
          "text": [
            "[[13  0  0]\n",
            " [ 0 15  1]\n",
            " [ 0  0  9]]\n",
            "97.36842105263158\n",
            "97.36842105263158\n"
          ],
          "name": "stdout"
        }
      ]
    },
    {
      "cell_type": "markdown",
      "metadata": {
        "id": "VhMy7ZmCZ_Ht"
      },
      "source": [
        "# 4. KNN"
      ]
    },
    {
      "cell_type": "code",
      "metadata": {
        "colab": {
          "base_uri": "https://localhost:8080/"
        },
        "id": "TPB4PzZqaBNz",
        "outputId": "76b70ec7-978e-47f7-d988-d854db12a1a8"
      },
      "source": [
        "from sklearn.neighbors import KNeighborsClassifier\r\n",
        "model = KNeighborsClassifier(n_neighbors=3)\r\n",
        "model.fit(X_train, y_train)\r\n",
        "# print metric to get performance\r\n",
        "y_pred = model.predict(X_test)\r\n",
        "cm = confusion_matrix(y_test, y_pred)\r\n",
        "accuracy_knn = accuracy_score(y_test,y_pred)*100\r\n",
        "acc_knn = model.score(X_test, y_test) * 100\r\n",
        "print(cm)\r\n",
        "print(accuracy_knn)\r\n",
        "print(acc_knn)"
      ],
      "execution_count": null,
      "outputs": [
        {
          "output_type": "stream",
          "text": [
            "[[13  0  0]\n",
            " [ 0 15  1]\n",
            " [ 0  0  9]]\n",
            "97.36842105263158\n",
            "97.36842105263158\n"
          ],
          "name": "stdout"
        }
      ]
    },
    {
      "cell_type": "markdown",
      "metadata": {
        "id": "QOrDEk4LcQD6"
      },
      "source": [
        "#5.Logistic Regression model and apply PAC"
      ]
    },
    {
      "cell_type": "code",
      "metadata": {
        "colab": {
          "base_uri": "https://localhost:8080/"
        },
        "id": "BoVdSY7WfkMD",
        "outputId": "92b9d897-ea07-43de-a8c0-04b8b1040862"
      },
      "source": [
        "from sklearn.decomposition import PCA\r\n",
        "pca = PCA(n_components = 2)\r\n",
        "X_train_pca = pca.fit_transform(X_train)\r\n",
        "X_test_pca = pca.transform(X_test)\r\n",
        "from sklearn.linear_model import LogisticRegression\r\n",
        "model = LogisticRegression(random_state = 0)\r\n",
        "model.fit(X_train_pca, y_train)\r\n",
        "# print metric to get performance\r\n",
        "y_pred = model.predict(X_test_pca)\r\n",
        "cm = confusion_matrix(y_test, y_pred)\r\n",
        "accuracy_lrpca = accuracy_score(y_test,y_pred)*100\r\n",
        "acc_lrpca = model.score(X_test_pca, y_test) * 100\r\n",
        "print(cm)\r\n",
        "print(accuracy_lrpca)\r\n",
        "print(acc_lrpca)"
      ],
      "execution_count": null,
      "outputs": [
        {
          "output_type": "stream",
          "text": [
            "[[13  0  0]\n",
            " [ 0 12  4]\n",
            " [ 0  2  7]]\n",
            "84.21052631578947\n",
            "84.21052631578947\n"
          ],
          "name": "stdout"
        }
      ]
    },
    {
      "cell_type": "markdown",
      "metadata": {
        "id": "hb2OksTRfysk"
      },
      "source": [
        "#6. SVM – linear and non-linear classifiers"
      ]
    },
    {
      "cell_type": "code",
      "metadata": {
        "colab": {
          "base_uri": "https://localhost:8080/"
        },
        "id": "cXEcmEvmFd8n",
        "outputId": "df6f7263-5aa5-4fc9-c9e3-32f005532e59"
      },
      "source": [
        "#SVM-LINEAR\r\n",
        "from sklearn.svm import SVC\r\n",
        "model = SVC(kernel = 'linear', random_state = 0)\r\n",
        "model.fit(X_train, y_train)\r\n",
        "# print metric to get performance\r\n",
        "y_pred = model.predict(X_test)\r\n",
        "cm = confusion_matrix(y_test, y_pred)\r\n",
        "accuracy_svml = accuracy_score(y_test,y_pred)*100\r\n",
        "acc_svml = model.score(X_test, y_test) * 100\r\n",
        "print(cm)\r\n",
        "print(accuracy_svml)\r\n",
        "print(acc_svml)"
      ],
      "execution_count": null,
      "outputs": [
        {
          "output_type": "stream",
          "text": [
            "[[13  0  0]\n",
            " [ 0 15  1]\n",
            " [ 0  0  9]]\n",
            "97.36842105263158\n",
            "97.36842105263158\n"
          ],
          "name": "stdout"
        }
      ]
    },
    {
      "cell_type": "code",
      "metadata": {
        "colab": {
          "base_uri": "https://localhost:8080/"
        },
        "id": "4iSLBeOleN7-",
        "outputId": "04c9b0e2-a1ef-4f6e-cc32-6880058fc750"
      },
      "source": [
        "#SVM-NON-LINEAR\r\n",
        "from sklearn.svm import SVC\r\n",
        "model = SVC(kernel = 'rbf', random_state = 0)\r\n",
        "model.fit(X_train, y_train)\r\n",
        "# print metric to get performance\r\n",
        "y_pred = model.predict(X_test)\r\n",
        "cm = confusion_matrix(y_test, y_pred)\r\n",
        "accuracy_svmNl = accuracy_score(y_test,y_pred)*100\r\n",
        "acc_svmNl = model.score(X_test, y_test) * 100\r\n",
        "print(cm)\r\n",
        "print(accuracy_svmNl)\r\n",
        "print(acc_svmNl)"
      ],
      "execution_count": null,
      "outputs": [
        {
          "output_type": "stream",
          "text": [
            "[[13  0  0]\n",
            " [ 0 15  1]\n",
            " [ 0  0  9]]\n",
            "97.36842105263158\n",
            "97.36842105263158\n"
          ],
          "name": "stdout"
        }
      ]
    },
    {
      "cell_type": "markdown",
      "metadata": {
        "id": "6HaPDaxlf2QB"
      },
      "source": [
        "# 7.Random Forest Model"
      ]
    },
    {
      "cell_type": "code",
      "metadata": {
        "colab": {
          "base_uri": "https://localhost:8080/"
        },
        "id": "-5do2FwLf6tT",
        "outputId": "5b7a22b7-57cc-4ee6-a6be-747ba0499f02"
      },
      "source": [
        "from sklearn.ensemble import RandomForestClassifier\r\n",
        "model = RandomForestClassifier(n_estimators = 10, criterion = 'entropy', random_state = 0)\r\n",
        "model.fit(X_train, y_train)\r\n",
        "# print metric to get performance\r\n",
        "y_pred = model.predict(X_test)\r\n",
        "cm = confusion_matrix(y_test, y_pred)\r\n",
        "accuracy_rf = accuracy_score(y_test,y_pred)*100\r\n",
        "acc_rf = model.score(X_test, y_test) * 100\r\n",
        "print(cm)\r\n",
        "print(accuracy_rf)\r\n",
        "print(acc_rf)"
      ],
      "execution_count": null,
      "outputs": [
        {
          "output_type": "stream",
          "text": [
            "[[13  0  0]\n",
            " [ 0 15  1]\n",
            " [ 0  1  8]]\n",
            "94.73684210526315\n",
            "94.73684210526315\n"
          ],
          "name": "stdout"
        }
      ]
    },
    {
      "cell_type": "markdown",
      "metadata": {
        "id": "U7UwE-mMgFJ_"
      },
      "source": [
        "# 8.Ada Boost Model"
      ]
    },
    {
      "cell_type": "code",
      "metadata": {
        "colab": {
          "base_uri": "https://localhost:8080/"
        },
        "id": "u4Wr9FwsgA20",
        "outputId": "e40df4f5-70bd-48bd-c399-d9fe0534b1d4"
      },
      "source": [
        "from sklearn.ensemble import AdaBoostClassifier\r\n",
        "model = AdaBoostClassifier(n_estimators=50,learning_rate=1)\r\n",
        "model.fit(X_train, y_train)\r\n",
        "# print metric to get performance\r\n",
        "y_pred = model.predict(X_test)\r\n",
        "cm = confusion_matrix(y_test, y_pred)\r\n",
        "accuracy_abc = accuracy_score(y_test,y_pred)*100\r\n",
        "acc_abc = model.score(X_test, y_test) * 100\r\n",
        "print(cm)\r\n",
        "print(accuracy_abc)\r\n",
        "print(acc_abc)"
      ],
      "execution_count": null,
      "outputs": [
        {
          "output_type": "stream",
          "text": [
            "[[13  0  0]\n",
            " [ 0 15  1]\n",
            " [ 0  3  6]]\n",
            "89.47368421052632\n",
            "89.47368421052632\n"
          ],
          "name": "stdout"
        }
      ]
    },
    {
      "cell_type": "code",
      "metadata": {
        "colab": {
          "base_uri": "https://localhost:8080/",
          "height": 317
        },
        "id": "MJXigpPwh_6Q",
        "outputId": "0f16a8ea-a031-4b67-e436-beb0dd4fb1c2"
      },
      "source": [
        "# Compare results\r\n",
        "results = pd.DataFrame({\r\n",
        "    'Model': [ 'Decision Tree Classifier', \r\n",
        "              'Logistic Regression', \r\n",
        "              'Random Forest',\r\n",
        "              'Naive Bayes',  \r\n",
        "              ' Support Vector Machine Linear', \r\n",
        "              'Support Vector Machine Non-Linear',\r\n",
        "              'K-NN classifier',\r\n",
        "              'Logistic Regression with PCA',\r\n",
        "              'Ada Boost Model'],\r\n",
        "    'Score': [ accuracyentropy,\r\n",
        "              acc_lr, \r\n",
        "              acc_rf,\r\n",
        "              acc_nb,  \r\n",
        "              acc_svml,\r\n",
        "              acc_svmNl,\r\n",
        "              acc_knn,\r\n",
        "              acc_lrpca,\r\n",
        "              acc_abc],\r\n",
        "    \"Accuracy_score\":[prediction,\r\n",
        "                      accuracy_lr,\r\n",
        "                      accuracy_rf,\r\n",
        "                      accuracy_nb,\r\n",
        "                      accuracy_svml,\r\n",
        "                      accuracy_svmNl,\r\n",
        "                      accuracy_knn,\r\n",
        "                      accuracy_lrpca,\r\n",
        "                      accuracy_abc\r\n",
        "                     ]})\r\n",
        "result_df = results.sort_values(by='Accuracy_score', ascending=False)\r\n",
        "result_df = result_df.reset_index(drop=False)\r\n",
        "result_df.head(9)"
      ],
      "execution_count": null,
      "outputs": [
        {
          "output_type": "execute_result",
          "data": {
            "text/html": [
              "<div>\n",
              "<style scoped>\n",
              "    .dataframe tbody tr th:only-of-type {\n",
              "        vertical-align: middle;\n",
              "    }\n",
              "\n",
              "    .dataframe tbody tr th {\n",
              "        vertical-align: top;\n",
              "    }\n",
              "\n",
              "    .dataframe thead th {\n",
              "        text-align: right;\n",
              "    }\n",
              "</style>\n",
              "<table border=\"1\" class=\"dataframe\">\n",
              "  <thead>\n",
              "    <tr style=\"text-align: right;\">\n",
              "      <th></th>\n",
              "      <th>index</th>\n",
              "      <th>Model</th>\n",
              "      <th>Score</th>\n",
              "      <th>Accuracy_score</th>\n",
              "    </tr>\n",
              "  </thead>\n",
              "  <tbody>\n",
              "    <tr>\n",
              "      <th>0</th>\n",
              "      <td>3</td>\n",
              "      <td>Naive Bayes</td>\n",
              "      <td>100.000000</td>\n",
              "      <td>100.000000</td>\n",
              "    </tr>\n",
              "    <tr>\n",
              "      <th>1</th>\n",
              "      <td>1</td>\n",
              "      <td>Logistic Regression</td>\n",
              "      <td>97.368421</td>\n",
              "      <td>97.368421</td>\n",
              "    </tr>\n",
              "    <tr>\n",
              "      <th>2</th>\n",
              "      <td>4</td>\n",
              "      <td>Support Vector Machine Linear</td>\n",
              "      <td>97.368421</td>\n",
              "      <td>97.368421</td>\n",
              "    </tr>\n",
              "    <tr>\n",
              "      <th>3</th>\n",
              "      <td>5</td>\n",
              "      <td>Support Vector Machine Non-Linear</td>\n",
              "      <td>97.368421</td>\n",
              "      <td>97.368421</td>\n",
              "    </tr>\n",
              "    <tr>\n",
              "      <th>4</th>\n",
              "      <td>6</td>\n",
              "      <td>K-NN classifier</td>\n",
              "      <td>97.368421</td>\n",
              "      <td>97.368421</td>\n",
              "    </tr>\n",
              "    <tr>\n",
              "      <th>5</th>\n",
              "      <td>2</td>\n",
              "      <td>Random Forest</td>\n",
              "      <td>94.736842</td>\n",
              "      <td>94.736842</td>\n",
              "    </tr>\n",
              "    <tr>\n",
              "      <th>6</th>\n",
              "      <td>8</td>\n",
              "      <td>Ada Boost Model</td>\n",
              "      <td>89.473684</td>\n",
              "      <td>89.473684</td>\n",
              "    </tr>\n",
              "    <tr>\n",
              "      <th>7</th>\n",
              "      <td>7</td>\n",
              "      <td>Logistic Regression with PCA</td>\n",
              "      <td>84.210526</td>\n",
              "      <td>84.210526</td>\n",
              "    </tr>\n",
              "    <tr>\n",
              "      <th>8</th>\n",
              "      <td>0</td>\n",
              "      <td>Decision Tree Classifier</td>\n",
              "      <td>0.973684</td>\n",
              "      <td>0.973684</td>\n",
              "    </tr>\n",
              "  </tbody>\n",
              "</table>\n",
              "</div>"
            ],
            "text/plain": [
              "   index                              Model       Score  Accuracy_score\n",
              "0      3                        Naive Bayes  100.000000      100.000000\n",
              "1      1                Logistic Regression   97.368421       97.368421\n",
              "2      4      Support Vector Machine Linear   97.368421       97.368421\n",
              "3      5  Support Vector Machine Non-Linear   97.368421       97.368421\n",
              "4      6                    K-NN classifier   97.368421       97.368421\n",
              "5      2                      Random Forest   94.736842       94.736842\n",
              "6      8                    Ada Boost Model   89.473684       89.473684\n",
              "7      7       Logistic Regression with PCA   84.210526       84.210526\n",
              "8      0           Decision Tree Classifier    0.973684        0.973684"
            ]
          },
          "metadata": {
            "tags": []
          },
          "execution_count": 79
        }
      ]
    }
  ]
}